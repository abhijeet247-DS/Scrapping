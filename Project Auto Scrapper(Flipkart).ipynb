{
 "cells": [
  {
   "cell_type": "code",
   "execution_count": 2,
   "metadata": {},
   "outputs": [
    {
     "name": "stdout",
     "output_type": "stream",
     "text": [
      "Requirement already satisfied: autoscraper in c:\\users\\abhij\\anaconda3\\lib\\site-packages (1.1.12)\n",
      "Requirement already satisfied: bs4 in c:\\users\\abhij\\anaconda3\\lib\\site-packages (from autoscraper) (0.0.1)\n",
      "Requirement already satisfied: lxml in c:\\users\\abhij\\anaconda3\\lib\\site-packages (from autoscraper) (4.6.1)\n",
      "Requirement already satisfied: requests in c:\\users\\abhij\\anaconda3\\lib\\site-packages (from autoscraper) (2.24.0)\n",
      "Requirement already satisfied: beautifulsoup4 in c:\\users\\abhij\\anaconda3\\lib\\site-packages (from bs4->autoscraper) (4.9.3)\n",
      "Requirement already satisfied: certifi>=2017.4.17 in c:\\users\\abhij\\anaconda3\\lib\\site-packages (from requests->autoscraper) (2020.6.20)\n",
      "Requirement already satisfied: urllib3!=1.25.0,!=1.25.1,<1.26,>=1.21.1 in c:\\users\\abhij\\anaconda3\\lib\\site-packages (from requests->autoscraper) (1.25.11)\n",
      "Requirement already satisfied: chardet<4,>=3.0.2 in c:\\users\\abhij\\anaconda3\\lib\\site-packages (from requests->autoscraper) (3.0.4)\n",
      "Requirement already satisfied: idna<3,>=2.5 in c:\\users\\abhij\\anaconda3\\lib\\site-packages (from requests->autoscraper) (2.10)\n",
      "Requirement already satisfied: soupsieve>1.2; python_version >= \"3.0\" in c:\\users\\abhij\\anaconda3\\lib\\site-packages (from beautifulsoup4->bs4->autoscraper) (2.0.1)\n"
     ]
    }
   ],
   "source": [
    "!pip install autoscraper"
   ]
  },
  {
   "cell_type": "code",
   "execution_count": 3,
   "metadata": {},
   "outputs": [],
   "source": [
    "from autoscraper import AutoScraper"
   ]
  },
  {
   "cell_type": "code",
   "execution_count": 25,
   "metadata": {},
   "outputs": [
    {
     "name": "stdout",
     "output_type": "stream",
     "text": [
      "['₹1,25,900', '₹1,29,900', '₹82,400', '₹84,900', '₹93,900', '₹1,23,900', '₹57,400', '₹59,900', '₹1,35,900', '₹1,39,900', '₹1,31,900', '₹1,15,900', '₹1,19,900', '₹77,900', '₹79,900', '₹90,900', '₹1,11,200', '₹86,900', '₹1,21,300', '₹74,900', '₹66,900', '₹69,900', 'New Apple iPhone 12 Pro Max (128GB) - Pacific Blue', '₹1,25,900₹1,25,900\\n₹1,29,900₹1,29,900\\n\\nSave ₹4,000 (3%)Save extra with No Cost EMI', 'New Apple iPhone 12 (128GB) - Blue', '₹82,400₹82,400\\n₹84,900₹84,900\\n\\nSave ₹2,500 (3%)Save extra with No Cost EMI', 'Apple iPhone 11 Pro Max (256GB) - Midnight Green', 'Limited time deal\\n\\n\\n\\n\\n₹93,900₹93,900\\n₹1,23,900₹1,23,900\\n\\nSave ₹30,000 (24%)Save extra with No Cost EMI', 'New Apple iPhone 11 (128GB) - Purple', '₹57,400₹57,400\\n₹59,900₹59,900\\n\\nSave ₹2,500 (4%)Save extra with No Cost EMI', 'New Apple iPhone 12 Pro Max (256GB) - Graphite', '₹1,35,900₹1,35,900\\n₹1,39,900₹1,39,900\\n\\nSave ₹4,000 (3%)Save extra with No Cost EMI', 'Apple iPhone 11 Pro Max (256GB) - Gold', 'Limited time deal\\n\\n\\n\\n\\n₹93,900₹93,900\\n₹1,31,900₹1,31,900\\n\\nSave ₹38,000 (29%)Save extra with No Cost EMI', 'New Apple iPhone 11 (128GB) - White', '₹59,900₹59,900\\n\\nSave extra with No Cost EMI', 'New Apple iPhone 12 Pro (128GB) - Pacific Blue', '₹1,15,900₹1,15,900\\n₹1,19,900₹1,19,900\\n\\nSave ₹4,000 (3%)Save extra with No Cost EMI', 'New Apple iPhone 12 (64GB) - Blue', '₹77,900₹77,900\\n₹79,900₹79,900\\n\\nSave ₹2,000 (3%)Save extra with No Cost EMI', 'Apple iPhone 11 Pro Max (64GB) - Space Grey', 'Limited time deal\\n\\n\\n\\n\\n₹90,900₹90,900\\n₹1,11,200₹1,11,200\\n\\nSave ₹20,300 (18%)Save extra with No Cost EMI', 'New Apple iPhone 11 (128GB) - Green', 'New Apple iPhone 12 (64GB) - Black', 'Apple iPhone 11 Pro (256GB) - Silver', '₹86,900₹86,900\\n₹1,21,300₹1,21,300\\n\\nSave ₹34,400 (28%)Save extra with No Cost EMI', 'New Apple iPhone 12 Mini (128GB) - Green', '₹74,900₹74,900\\n\\nSave extra with No Cost EMI', 'New Apple iPhone 12 Mini (64GB) - Blue', '₹66,900₹66,900\\n₹69,900₹69,900\\n\\nSave ₹3,000 (4%)Save extra with No Cost EMI']\n"
     ]
    }
   ],
   "source": [
    "amazon_url= \"https://www.amazon.in/s?i=aps&k=iphone\"\n",
    "\n",
    "wanted_list=[\"₹82,400 \",\"New Apple iPhone 12 (128GB) - Blue\"]\n",
    "\n",
    "scraper=AutoScraper()\n",
    "result=scraper.build(amazon_url, wanted_list)\n",
    "print(result)"
   ]
  },
  {
   "cell_type": "code",
   "execution_count": 26,
   "metadata": {},
   "outputs": [
    {
     "data": {
      "text/plain": [
       "{'rule_ve7j': ['₹1,25,900',\n",
       "  '₹1,29,900',\n",
       "  '₹82,400',\n",
       "  '₹84,900',\n",
       "  '₹93,900',\n",
       "  '₹1,23,900',\n",
       "  '₹57,400',\n",
       "  '₹59,900',\n",
       "  '₹1,35,900',\n",
       "  '₹1,39,900',\n",
       "  '₹93,900',\n",
       "  '₹1,31,900',\n",
       "  '₹59,900',\n",
       "  '₹1,15,900',\n",
       "  '₹1,19,900',\n",
       "  '₹77,900',\n",
       "  '₹79,900',\n",
       "  '₹90,900',\n",
       "  '₹1,11,200',\n",
       "  '₹59,900',\n",
       "  '₹77,900',\n",
       "  '₹79,900',\n",
       "  '₹86,900',\n",
       "  '₹1,21,300',\n",
       "  '₹74,900',\n",
       "  '₹66,900',\n",
       "  '₹69,900'],\n",
       " 'rule_hagz': ['₹1,25,900',\n",
       "  '₹1,29,900',\n",
       "  '₹82,400',\n",
       "  '₹84,900',\n",
       "  '₹93,900',\n",
       "  '₹1,23,900',\n",
       "  '₹57,400',\n",
       "  '₹59,900',\n",
       "  '₹1,35,900',\n",
       "  '₹1,39,900',\n",
       "  '₹93,900',\n",
       "  '₹1,31,900',\n",
       "  '₹59,900',\n",
       "  '₹1,15,900',\n",
       "  '₹1,19,900',\n",
       "  '₹77,900',\n",
       "  '₹79,900',\n",
       "  '₹90,900',\n",
       "  '₹1,11,200',\n",
       "  '₹59,900',\n",
       "  '₹77,900',\n",
       "  '₹79,900',\n",
       "  '₹86,900',\n",
       "  '₹1,21,300',\n",
       "  '₹74,900',\n",
       "  '₹66,900',\n",
       "  '₹69,900'],\n",
       " 'rule_xv9c': ['₹1,25,900₹1,25,900 ₹1,29,900₹1,29,900  Save ₹4,000 (3%)Save extra with No Cost EMI',\n",
       "  '₹82,400₹82,400 ₹84,900₹84,900  Save ₹2,500 (3%)Save extra with No Cost EMI',\n",
       "  'Limited time deal  ₹93,900₹93,900 ₹1,23,900₹1,23,900  Save ₹30,000 (24%)Save extra with No Cost EMI',\n",
       "  '₹57,400₹57,400 ₹59,900₹59,900  Save ₹2,500 (4%)Save extra with No Cost EMI',\n",
       "  '₹1,35,900₹1,35,900 ₹1,39,900₹1,39,900  Save ₹4,000 (3%)Save extra with No Cost EMI',\n",
       "  'Limited time deal  ₹93,900₹93,900 ₹1,31,900₹1,31,900  Save ₹38,000 (29%)Save extra with No Cost EMI',\n",
       "  '₹59,900₹59,900  Save extra with No Cost EMI',\n",
       "  '₹1,15,900₹1,15,900 ₹1,19,900₹1,19,900  Save ₹4,000 (3%)Save extra with No Cost EMI',\n",
       "  '₹77,900₹77,900 ₹79,900₹79,900  Save ₹2,000 (3%)Save extra with No Cost EMI',\n",
       "  'Limited time deal  ₹90,900₹90,900 ₹1,11,200₹1,11,200  Save ₹20,300 (18%)Save extra with No Cost EMI',\n",
       "  '₹59,900₹59,900  Save extra with No Cost EMI',\n",
       "  '₹77,900₹77,900 ₹79,900₹79,900  Save ₹2,000 (3%)Save extra with No Cost EMI',\n",
       "  '₹86,900₹86,900 ₹1,21,300₹1,21,300  Save ₹34,400 (28%)Save extra with No Cost EMI',\n",
       "  '₹74,900₹74,900  Save extra with No Cost EMI',\n",
       "  '₹66,900₹66,900 ₹69,900₹69,900  Save ₹3,000 (4%)Save extra with No Cost EMI'],\n",
       " 'rule_1hi0': ['New Apple iPhone 12 Pro Max (128GB) - Pacific Blue',\n",
       "  'New Apple iPhone 12 (128GB) - Blue',\n",
       "  'Apple iPhone 11 Pro Max (256GB) - Midnight Green',\n",
       "  'New Apple iPhone 11 (128GB) - Purple',\n",
       "  'New Apple iPhone 12 Pro Max (256GB) - Graphite',\n",
       "  'Apple iPhone 11 Pro Max (256GB) - Gold',\n",
       "  'New Apple iPhone 11 (128GB) - White',\n",
       "  'New Apple iPhone 12 Pro (128GB) - Pacific Blue',\n",
       "  'New Apple iPhone 12 (64GB) - Blue',\n",
       "  'Apple iPhone 11 Pro Max (64GB) - Space Grey',\n",
       "  'New Apple iPhone 11 (128GB) - Green',\n",
       "  'New Apple iPhone 12 (64GB) - Black',\n",
       "  'Apple iPhone 11 Pro (256GB) - Silver',\n",
       "  'New Apple iPhone 12 Mini (128GB) - Green',\n",
       "  'New Apple iPhone 12 Mini (64GB) - Blue']}"
      ]
     },
     "execution_count": 26,
     "metadata": {},
     "output_type": "execute_result"
    }
   ],
   "source": [
    "scraper.get_result_similar(amazon_url, grouped=True)"
   ]
  },
  {
   "cell_type": "code",
   "execution_count": 27,
   "metadata": {},
   "outputs": [],
   "source": [
    "scraper.set_rule_aliases({'rule_1hi0':'Title', 'rule_ve7j':'Price'})\n",
    "scraper.keep_rules(['rule_1hi0','rule_ve7j'])\n",
    "scraper.save('Amazon-Search')"
   ]
  },
  {
   "cell_type": "code",
   "execution_count": 28,
   "metadata": {},
   "outputs": [],
   "source": [
    "results=scraper.get_result_similar(\"https://www.amazon.in/s?i=aps&k=MI%20phones\", group_by_alias=True)"
   ]
  },
  {
   "cell_type": "code",
   "execution_count": 35,
   "metadata": {},
   "outputs": [
    {
     "data": {
      "text/plain": [
       "['₹6,990',\n",
       " '₹23,999',\n",
       " '₹27,999',\n",
       " '₹10,499',\n",
       " '₹13,999',\n",
       " '₹6,799',\n",
       " '₹8,499',\n",
       " '₹9,999',\n",
       " '₹10,999',\n",
       " '₹8,799',\n",
       " '₹10,999',\n",
       " '₹21,999',\n",
       " '₹24,999',\n",
       " '₹9,999',\n",
       " '₹10,999',\n",
       " '₹7,499',\n",
       " '₹9,499',\n",
       " '₹10,999',\n",
       " '₹14,999',\n",
       " '₹14,999',\n",
       " '₹18,999',\n",
       " '₹6,499',\n",
       " '₹7,999',\n",
       " '₹8,799',\n",
       " '₹10,999',\n",
       " '₹13,999',\n",
       " '₹17,999',\n",
       " '₹12,999',\n",
       " '₹16,999']"
      ]
     },
     "execution_count": 35,
     "metadata": {},
     "output_type": "execute_result"
    }
   ],
   "source": [
    "results['Price']"
   ]
  },
  {
   "cell_type": "code",
   "execution_count": 36,
   "metadata": {},
   "outputs": [
    {
     "data": {
      "text/plain": [
       "['Mi Redmi 6A (Black, 2GB RAM, 16GB Storage)',\n",
       " 'Mi 10i 5G (Atlantic Blue, 8GB RAM, 128GB Storage) - 108MP Quad Camera | Snapdragon 750G Processor | Upto 6 Months No Cost EMI',\n",
       " 'Redmi 9 Power (Fiery Red, 4GB RAM, 64GB Storage) - 6000mAh Battery |FHD+ Screen| 48MP Quad Camera',\n",
       " 'Mi Redmi 6A (Rose Gold, 2GB RAM, 16GB Storage)',\n",
       " 'Redmi 9A (Nature Green, 2GB Ram, 32GB Storage) | 2GHz Octa-core Helio G25 Processor',\n",
       " 'Redmi 9 (Sky Blue, 4GB RAM, 128GB Storage)',\n",
       " 'Redmi 9 (Sky Blue, 4GB RAM, 64GB Storage)',\n",
       " 'Mi 10i 5G (Atlantic Blue, 6GB RAM, 128GB Storage) - 108MP Quad Camera | Snapdragon 750G Processor | Upto 6 Months No Cost EMI',\n",
       " 'Redmi 9 Sporty Orange, 4GB RAM, 128GB Storage',\n",
       " 'Redmi 9A (Midnight Black, 3GB Ram, 32GB Storage) | 2GHz Octa-core Helio G25 Processor',\n",
       " 'Redmi Note 9 (Pebble Grey, 4GB RAM 64GB Storage) - 48MP Quad Camera & Full HD+ Display | Extra INR 1000 Off on Exchange',\n",
       " 'Redmi Note 9 Pro Max (Champagne Gold, 6GB RAM, 64GB Storage) - 64MP Quad Camera & Latest 8nm Snapdragon 720G & Alexa Hands...',\n",
       " 'Mi Redmi 6A (Black, 2GB RAM, 32GB Storage)',\n",
       " 'Redmi 9 (Carbon Black, 4GB RAM, 64GB Storage)',\n",
       " 'Redmi Note 10 (Frost White, 6GB RAM, 128GB Storage)',\n",
       " 'Redmi Note 9 Pro (Interstellar Black, 4GB RAM, 64GB Storage)- Latest 8nm Snapdragon 720G & Alexa Hands-Free']"
      ]
     },
     "execution_count": 36,
     "metadata": {},
     "output_type": "execute_result"
    }
   ],
   "source": [
    "results['Title']"
   ]
  },
  {
   "cell_type": "code",
   "execution_count": null,
   "metadata": {},
   "outputs": [],
   "source": []
  }
 ],
 "metadata": {
  "kernelspec": {
   "display_name": "Python 3",
   "language": "python",
   "name": "python3"
  },
  "language_info": {
   "codemirror_mode": {
    "name": "ipython",
    "version": 3
   },
   "file_extension": ".py",
   "mimetype": "text/x-python",
   "name": "python",
   "nbconvert_exporter": "python",
   "pygments_lexer": "ipython3",
   "version": "3.8.5"
  }
 },
 "nbformat": 4,
 "nbformat_minor": 4
}
